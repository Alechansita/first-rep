{
 "cells": [
  {
   "cell_type": "code",
   "execution_count": null,
   "id": "b23d91eb",
   "metadata": {
    "vscode": {
     "languageId": "plaintext"
    }
   },
   "outputs": [],
   "source": [
    "import xspec\n",
    "import numpy"
   ]
  },
  {
   "cell_type": "markdown",
   "id": "c58ad698",
   "metadata": {},
   "source": [
    "Hi hi hi"
   ]
  }
 ],
 "metadata": {
  "language_info": {
   "name": "python"
  }
 },
 "nbformat": 4,
 "nbformat_minor": 5
}
